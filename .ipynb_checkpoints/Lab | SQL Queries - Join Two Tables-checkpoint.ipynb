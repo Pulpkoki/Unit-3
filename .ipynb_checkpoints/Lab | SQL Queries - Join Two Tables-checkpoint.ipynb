{
 "cells": [
  {
   "cell_type": "code",
   "execution_count": null,
   "id": "78a44031",
   "metadata": {},
   "outputs": [],
   "source": [
    "use sakila;\n",
    "select * from actor;\n",
    "\n",
    "#Which actor has appeared in the most films?\n",
    "select count(actor.actor_id), first_name, last_name\n",
    "from actor inner join film_actor on actor.actor_id = film_actor.actor_id\n",
    "GROUP BY actor.actor_id\n",
    "order by count(actor.actor_id) desc limit 1;\n",
    "\n",
    "#Most active customer (the customer that has rented the most number of films)\n",
    "select count(customer.customer_id), first_name, last_name\n",
    "from customer inner join rental on customer.customer_id = rental.customer_id\n",
    "GROUP BY customer.customer_id\n",
    "order by count(customer.customer_id) desc limit 1;\n",
    "\n",
    "#List number of films per category\n",
    "SELECT category.name, count(*)\n",
    "FROM film_category inner join category on film_category.category_id = category.category_id\n",
    "GROUP BY category.category_id\n",
    "ORDER BY name;\n",
    "\n",
    "\n",
    "#Display the first and last names, as well as the address, of each staff member"
   ]
  }
 ],
 "metadata": {
  "kernelspec": {
   "display_name": "Python 3 (ipykernel)",
   "language": "python",
   "name": "python3"
  },
  "language_info": {
   "codemirror_mode": {
    "name": "ipython",
    "version": 3
   },
   "file_extension": ".py",
   "mimetype": "text/x-python",
   "name": "python",
   "nbconvert_exporter": "python",
   "pygments_lexer": "ipython3",
   "version": "3.9.7"
  }
 },
 "nbformat": 4,
 "nbformat_minor": 5
}
